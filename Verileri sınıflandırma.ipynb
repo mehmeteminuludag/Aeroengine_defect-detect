{
 "cells": [
  {
   "cell_type": "code",
   "execution_count": 4,
   "id": "c6813682-0603-4470-8b7f-d3b9b5932a6e",
   "metadata": {},
   "outputs": [],
   "source": [
    "import os\n",
    "import shutil"
   ]
  },
  {
   "cell_type": "code",
   "execution_count": 1,
   "id": "c539a822-79a2-496e-a77b-f42c91092680",
   "metadata": {},
   "outputs": [],
   "source": [
    "def data_changer(tur):\n",
    "    file_path = r'C:\\Users\\Mehmet\\Desktop\\Aero-engine_defect-detect_new\\labels'+'\\\\'+tur\n",
    "    filedata = []\n",
    "    tmp_file = []\n",
    "\n",
    "    for filename in os.listdir(file_path):\n",
    "        filename = \"\\\\\" + filename\n",
    "        f = filename.replace(\".txt\", \".jpg\")\n",
    "        tmp_file.append(r'C:\\Users\\Mehmet\\Desktop\\Aero-engine_defect-detect_new\\images'+'\\\\'+tur+ f)\n",
    "        filename = file_path+ filename\n",
    "        \n",
    "        file = open(filename,'r')\n",
    "        icerik = file.read()\n",
    "        if len(icerik.splitlines()) == 1:\n",
    "            kelimeler = icerik.split()\n",
    "            tmp_file.append(kelimeler[0])\n",
    "        else:\n",
    "            for satir in icerik.splitlines():\n",
    "                kelimeler = satir.split()\n",
    "                tmp_file.append(kelimeler[0])\n",
    "        filedata.append(tmp_file)\n",
    "        tmp_file = []\n",
    "    for image_info in filedata:\n",
    "        image_path = image_info[0]\n",
    "        new_path = r'C:\\Users\\Mehmet\\Desktop\\aero-engine data\\val'+'\\\\'+image_info[1]\n",
    "        shutil.move(image_path, new_path)\n",
    "    file.close()"
   ]
  },
  {
   "cell_type": "code",
   "execution_count": 8,
   "id": "97757bfd-998c-4d59-bb4a-85f9f86a14f8",
   "metadata": {},
   "outputs": [],
   "source": [
    "labels = r'C:\\Users\\Mehmet\\Desktop\\Aero-engine_defect-detect_new\\labels'\n",
    "data_sets=os.listdir(labels)\n",
    "for data_set in data_sets:\n",
    "    data_changer(data_set)"
   ]
  }
 ],
 "metadata": {
  "kernelspec": {
   "display_name": "Python 3 (ipykernel)",
   "language": "python",
   "name": "python3"
  },
  "language_info": {
   "codemirror_mode": {
    "name": "ipython",
    "version": 3
   },
   "file_extension": ".py",
   "mimetype": "text/x-python",
   "name": "python",
   "nbconvert_exporter": "python",
   "pygments_lexer": "ipython3",
   "version": "3.10.14"
  }
 },
 "nbformat": 4,
 "nbformat_minor": 5
}
