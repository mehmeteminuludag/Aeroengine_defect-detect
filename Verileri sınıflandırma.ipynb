{
 "cells": [
  {
   "cell_type": "code",
   "execution_count": null,
   "id": "c6813682-0603-4470-8b7f-d3b9b5932a6e",
   "metadata": {},
   "outputs": [],
   "source": [
    "import os\n",
    "import shutil"
   ]
  },
  {
   "cell_type": "code",
   "execution_count": 1,
   "id": "c539a822-79a2-496e-a77b-f42c91092680",
   "metadata": {},
   "outputs": [],
   "source": [
    "val_file_path = r'C:\\Users\\Mehmet\\Desktop\\Aero-engine_defect-detect_new\\labels\\val'\n",
    "val=[]\n",
    "valfile=[]\n",
    "for filename in os.listdir(val_file_path):\n",
    "    filename=\"\\\\\"+filename\n",
    "    f=filename.replace(\".txt\", \".jpg\")\n",
    "    valfile.append(\"\".join([r'C:\\Users\\Mehmet\\Desktop\\Aero-engine_defect-detect_new\\images\\val',f]))\n",
    "    filename=\"\".join([val_file_path,filename])\n",
    "    file = open(filename,'r')\n",
    "    icerik = file.read()\n",
    "    if len(icerik.splitlines())==1:\n",
    "        kelimeler = icerik.split()\n",
    "        valfile.append(kelimeler[0])\n",
    "    else :\n",
    "        for satir in icerik.splitlines():\n",
    "            kelimeler = satir.split()\n",
    "            valfile.append(kelimeler[0])\n",
    "    val.append(valfile)\n",
    "    valfile=[]\n",
    "    \n",
    "for image_info in val:\n",
    "    image_path=image_info[0]\n",
    "    if image_info[1]=='0':\n",
    "        new_path=r'C:\\Users\\Mehmet\\Desktop\\aero-engine data\\val\\0'\n",
    "    if image_info[1]=='1':\n",
    "        new_path=r'C:\\Users\\Mehmet\\Desktop\\aero-engine data\\val\\1'\n",
    "    if image_info[1]=='2':\n",
    "        new_path=r'C:\\Users\\Mehmet\\Desktop\\aero-engine data\\val\\2'\n",
    "    if image_info[1]=='3':\n",
    "        new_path=r'C:\\Users\\Mehmet\\Desktop\\aero-engine data\\val\\3'\n",
    "        \n",
    "    shutil.move(image_path, new_path)"
   ]
  },
  {
   "cell_type": "code",
   "execution_count": 8,
   "id": "97757bfd-998c-4d59-bb4a-85f9f86a14f8",
   "metadata": {},
   "outputs": [],
   "source": [
    "train_file_path = r'C:\\Users\\Mehmet\\Desktop\\Aero-engine_defect-detect_new\\labels\\train'\n",
    "train = []\n",
    "trainfile = []\n",
    "for filename in os.listdir(train_file_path):\n",
    "    filename = \"\\\\\" + filename\n",
    "    f = filename.replace(\".txt\", \".jpg\")\n",
    "    trainfile.append(\"\".join([r'C:\\Users\\Mehmet\\Desktop\\Aero-engine_defect-detect_new\\images\\train', f]))\n",
    "    filename = \"\".join([train_file_path, filename])\n",
    "    file = open(filename, 'r')\n",
    "    icerik = file.read()\n",
    "    if len(icerik.splitlines()) == 1:\n",
    "        kelimeler = icerik.split()\n",
    "        trainfile.append(kelimeler[0])\n",
    "    else:\n",
    "        for satir in icerik.splitlines():\n",
    "            kelimeler = satir.split()\n",
    "            trainfile.append(kelimeler[0])\n",
    "    train.append(trainfile)\n",
    "    trainfile = []\n",
    "    \n",
    "for image_info in train:\n",
    "    image_path = image_info[0]\n",
    "    if image_info[1] == '0':\n",
    "        new_path = r'C:\\Users\\Mehmet\\Desktop\\aero-engine data\\train\\0'\n",
    "    elif image_info[1] == '1':\n",
    "        new_path = r'C:\\Users\\Mehmet\\Desktop\\aero-engine data\\train\\1'\n",
    "    elif image_info[1] == '2':\n",
    "        new_path = r'C:\\Users\\Mehmet\\Desktop\\aero-engine data\\train\\2'\n",
    "    elif image_info[1] == '3':\n",
    "        new_path = r'C:\\Users\\Mehmet\\Desktop\\aero-engine data\\train\\3'\n",
    "    shutil.move(image_path, new_path)"
   ]
  },
  {
   "cell_type": "code",
   "execution_count": 9,
   "id": "de179d8e-7a92-4e44-b3b3-00d4004187b1",
   "metadata": {},
   "outputs": [],
   "source": [
    "file.close()"
   ]
  }
 ],
 "metadata": {
  "kernelspec": {
   "display_name": "Python 3 (ipykernel)",
   "language": "python",
   "name": "python3"
  },
  "language_info": {
   "codemirror_mode": {
    "name": "ipython",
    "version": 3
   },
   "file_extension": ".py",
   "mimetype": "text/x-python",
   "name": "python",
   "nbconvert_exporter": "python",
   "pygments_lexer": "ipython3",
   "version": "3.10.14"
  }
 },
 "nbformat": 4,
 "nbformat_minor": 5
}
