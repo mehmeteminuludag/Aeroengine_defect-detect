{
 "cells": [
  {
   "cell_type": "code",
   "execution_count": 1,
   "id": "8dfc5600-b34e-4c25-bdfa-e85448453a3b",
   "metadata": {},
   "outputs": [],
   "source": [
    "import tensorflow\n",
    "from tensorflow.keras import optimizers\n",
    "from tensorflow.keras.models import Sequential,load_model\n",
    "from tensorflow.keras.layers import Conv2D, MaxPooling2D, Flatten, Dense,Dropout,GlobalAveragePooling2D\n",
    "from tensorflow.keras.optimizers import Adam\n",
    "from tensorflow.keras.preprocessing.image import ImageDataGenerator\n",
    "from tensorflow.keras.metrics import Precision,Recall\n",
    "import numpy as np"
   ]
  },
  {
   "cell_type": "code",
   "execution_count": 2,
   "id": "b15395f3-1677-463d-bc3b-d6306a7437b4",
   "metadata": {},
   "outputs": [],
   "source": [
    "batch=4"
   ]
  },
  {
   "cell_type": "code",
   "execution_count": 3,
   "id": "1a098fc4-9f90-43c9-8534-6975258b040a",
   "metadata": {},
   "outputs": [
    {
     "name": "stdout",
     "output_type": "stream",
     "text": [
      "Found 211 images belonging to 4 classes.\n",
      "Found 28 images belonging to 4 classes.\n"
     ]
    }
   ],
   "source": [
    "trainuzantı=r\"C:\\Users\\Mehmet\\Desktop\\aero-engine data\\train\"\n",
    "veri = ImageDataGenerator(rescale=1./255,validation_split=0.125)\n",
    "train=veri.flow_from_directory(trainuzantı,target_size=(224, 224),batch_size=batch,class_mode='categorical',color_mode='rgb',shuffle=True,subset='training')\n",
    "validation=veri.flow_from_directory(trainuzantı,target_size=(224, 224),batch_size=batch,class_mode='categorical',color_mode='rgb',shuffle=True,subset='validation')"
   ]
  },
  {
   "cell_type": "code",
   "execution_count": 4,
   "id": "cde416af-e6b4-4194-9c8a-2007a4a65322",
   "metadata": {},
   "outputs": [],
   "source": [
    "from tensorflow.keras.applications import MobileNet,MobileNetV2\n",
    "mobilenet = MobileNet(weights='imagenet', include_top=True,input_shape=(224,224,3))"
   ]
  },
  {
   "cell_type": "code",
   "execution_count": 5,
   "id": "a79021f9-f2e4-4a4c-be5e-ad4cca9ca996",
   "metadata": {},
   "outputs": [],
   "source": [
    "model = Sequential([\n",
    "    mobilenet,\n",
    "    Flatten(),\n",
    "    Dropout(0.25),\n",
    "    Dense(256, activation='relu'),\n",
    "    Dropout(0.5),\n",
    "    Dense(4,activation='softmax')  \n",
    "])"
   ]
  },
  {
   "cell_type": "code",
   "execution_count": 6,
   "id": "cd55a530-0807-47f4-b608-07f8c4df77c9",
   "metadata": {},
   "outputs": [],
   "source": [
    "percent_frozen = 0.35\n",
    "num_layers = len(model.layers)\n",
    "num_layers_to_freeze = int(num_layers * percent_frozen)\n",
    "\n",
    "for layer in model.layers[:num_layers_to_freeze]:\n",
    "    layer.trainable = False"
   ]
  },
  {
   "cell_type": "code",
   "execution_count": 7,
   "id": "cbe1f78c-be6c-4c10-8e1a-31ea5092e73c",
   "metadata": {},
   "outputs": [],
   "source": [
    "optimizer = Adam(learning_rate=0.0005)\n",
    "model.compile(optimizer=optimizer, loss='categorical_crossentropy', metrics=[Precision(),Recall()])"
   ]
  },
  {
   "cell_type": "code",
   "execution_count": 8,
   "id": "da571f75-a27f-4858-933f-568b227e6642",
   "metadata": {},
   "outputs": [
    {
     "name": "stdout",
     "output_type": "stream",
     "text": [
      "Epoch 1/20\n",
      "53/53 [==============================] - 15s 223ms/step - loss: 1.3387 - precision: 0.0000e+00 - recall: 0.0000e+00 - val_loss: 1.2757 - val_precision: 0.0000e+00 - val_recall: 0.0000e+00\n",
      "Epoch 2/20\n",
      "53/53 [==============================] - 11s 212ms/step - loss: 1.2017 - precision: 0.0000e+00 - recall: 0.0000e+00 - val_loss: 1.1285 - val_precision: 0.0000e+00 - val_recall: 0.0000e+00\n",
      "Epoch 3/20\n",
      "53/53 [==============================] - 11s 209ms/step - loss: 1.0670 - precision: 1.0000 - recall: 0.0047 - val_loss: 1.0181 - val_precision: 0.0000e+00 - val_recall: 0.0000e+00\n",
      "Epoch 4/20\n",
      "53/53 [==============================] - 11s 207ms/step - loss: 0.9765 - precision: 0.7544 - recall: 0.2038 - val_loss: 0.9583 - val_precision: 0.8000 - val_recall: 0.2857\n",
      "Epoch 5/20\n",
      "53/53 [==============================] - 11s 208ms/step - loss: 0.9326 - precision: 0.7765 - recall: 0.3128 - val_loss: 0.9218 - val_precision: 0.7500 - val_recall: 0.4286\n",
      "Epoch 6/20\n",
      "53/53 [==============================] - 11s 210ms/step - loss: 0.8692 - precision: 0.7820 - recall: 0.4929 - val_loss: 0.8815 - val_precision: 0.7778 - val_recall: 0.5000\n",
      "Epoch 7/20\n",
      "53/53 [==============================] - 11s 206ms/step - loss: 0.8289 - precision: 0.7582 - recall: 0.5498 - val_loss: 0.8442 - val_precision: 0.8000 - val_recall: 0.5714\n",
      "Epoch 8/20\n",
      "53/53 [==============================] - 11s 215ms/step - loss: 0.8131 - precision: 0.7949 - recall: 0.5877 - val_loss: 0.8179 - val_precision: 0.8261 - val_recall: 0.6786\n",
      "Epoch 9/20\n",
      "53/53 [==============================] - 11s 211ms/step - loss: 0.7657 - precision: 0.8303 - recall: 0.6493 - val_loss: 0.7832 - val_precision: 0.8400 - val_recall: 0.7500\n",
      "Epoch 10/20\n",
      "53/53 [==============================] - 11s 211ms/step - loss: 0.7632 - precision: 0.8253 - recall: 0.6493 - val_loss: 0.7647 - val_precision: 0.8400 - val_recall: 0.7500\n",
      "Epoch 11/20\n",
      "53/53 [==============================] - 11s 209ms/step - loss: 0.6837 - precision: 0.8324 - recall: 0.7062 - val_loss: 0.7279 - val_precision: 0.8148 - val_recall: 0.7857\n",
      "Epoch 12/20\n",
      "53/53 [==============================] - 12s 220ms/step - loss: 0.6698 - precision: 0.8152 - recall: 0.7109 - val_loss: 0.7042 - val_precision: 0.8462 - val_recall: 0.7857\n",
      "Epoch 13/20\n",
      "53/53 [==============================] - 11s 210ms/step - loss: 0.6444 - precision: 0.8352 - recall: 0.6967 - val_loss: 0.6846 - val_precision: 0.8148 - val_recall: 0.7857\n",
      "Epoch 14/20\n",
      "53/53 [==============================] - 12s 221ms/step - loss: 0.6030 - precision: 0.8610 - recall: 0.7630 - val_loss: 0.6653 - val_precision: 0.8462 - val_recall: 0.7857\n",
      "Epoch 15/20\n",
      "53/53 [==============================] - 11s 215ms/step - loss: 0.5742 - precision: 0.8474 - recall: 0.7630 - val_loss: 0.6477 - val_precision: 0.8800 - val_recall: 0.7857\n",
      "Epoch 16/20\n",
      "53/53 [==============================] - 12s 221ms/step - loss: 0.5830 - precision: 0.8526 - recall: 0.7678 - val_loss: 0.6343 - val_precision: 0.8800 - val_recall: 0.7857\n",
      "Epoch 17/20\n",
      "53/53 [==============================] - 12s 220ms/step - loss: 0.5322 - precision: 0.8505 - recall: 0.7820 - val_loss: 0.6112 - val_precision: 0.9167 - val_recall: 0.7857\n",
      "Epoch 18/20\n",
      "53/53 [==============================] - 11s 213ms/step - loss: 0.5018 - precision: 0.8783 - recall: 0.7867 - val_loss: 0.6006 - val_precision: 0.9130 - val_recall: 0.7500\n",
      "Epoch 19/20\n",
      "53/53 [==============================] - 12s 217ms/step - loss: 0.4776 - precision: 0.8906 - recall: 0.8104 - val_loss: 0.5827 - val_precision: 0.9167 - val_recall: 0.7857\n",
      "Epoch 20/20\n",
      "53/53 [==============================] - 12s 219ms/step - loss: 0.4780 - precision: 0.8860 - recall: 0.8104 - val_loss: 0.5820 - val_precision: 0.9130 - val_recall: 0.7500\n"
     ]
    },
    {
     "data": {
      "text/plain": [
       "<keras.callbacks.History at 0x25406a3a350>"
      ]
     },
     "execution_count": 8,
     "metadata": {},
     "output_type": "execute_result"
    }
   ],
   "source": [
    "model.fit(train,batch_size=batch,epochs=20,verbose=1,validation_data=validation)"
   ]
  },
  {
   "cell_type": "code",
   "execution_count": 9,
   "id": "8c1348bc-8b3e-48ed-b41d-429023c345ca",
   "metadata": {},
   "outputs": [],
   "source": [
    "model.save((\"C:\\\\Users\\\\Mehmet\\\\Desktop\\\\ANACONDA PROJELERİ\\\\modeller\\\\mobilenetv10.h5\"))"
   ]
  }
 ],
 "metadata": {
  "kernelspec": {
   "display_name": "Python 3 (ipykernel)",
   "language": "python",
   "name": "python3"
  },
  "language_info": {
   "codemirror_mode": {
    "name": "ipython",
    "version": 3
   },
   "file_extension": ".py",
   "mimetype": "text/x-python",
   "name": "python",
   "nbconvert_exporter": "python",
   "pygments_lexer": "ipython3",
   "version": "3.10.14"
  }
 },
 "nbformat": 4,
 "nbformat_minor": 5
}
